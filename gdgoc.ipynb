{
  "nbformat": 4,
  "nbformat_minor": 0,
  "metadata": {
    "colab": {
      "provenance": []
    },
    "kernelspec": {
      "name": "python3",
      "display_name": "Python 3"
    },
    "language_info": {
      "name": "python"
    }
  },
  "cells": [
    {
      "cell_type": "markdown",
      "source": [
        "#2025 Gdgoc 백야 해커톤"
      ],
      "metadata": {
        "id": "JLSfCOF3fL4w"
      }
    },
    {
      "cell_type": "markdown",
      "source": [
        "## 고령화"
      ],
      "metadata": {
        "id": "20Fxs0kjfRPw"
      }
    },
    {
      "cell_type": "code",
      "execution_count": null,
      "metadata": {
        "id": "YwkK2gWCeHcr"
      },
      "outputs": [],
      "source": []
    },
    {
      "cell_type": "code",
      "source": [],
      "metadata": {
        "id": "JdZJ-tkjfZW9"
      },
      "execution_count": null,
      "outputs": []
    },
    {
      "cell_type": "markdown",
      "source": [
        "## 수도권 집중 현상"
      ],
      "metadata": {
        "id": "4uhOAIqOfTQA"
      }
    },
    {
      "cell_type": "code",
      "source": [],
      "metadata": {
        "id": "eLsadG5FfWCJ"
      },
      "execution_count": null,
      "outputs": []
    },
    {
      "cell_type": "markdown",
      "source": [
        "## 취업난"
      ],
      "metadata": {
        "id": "ejqC74aWfWTJ"
      }
    },
    {
      "cell_type": "code",
      "source": [],
      "metadata": {
        "id": "nwxDZlAk19wC"
      },
      "execution_count": null,
      "outputs": []
    }
  ]
}